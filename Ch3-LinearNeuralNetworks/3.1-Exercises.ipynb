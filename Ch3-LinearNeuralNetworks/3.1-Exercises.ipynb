{
 "cells": [
  {
   "cell_type": "markdown",
   "metadata": {},
   "source": [
    "# 3.1 Linear Regression"
   ]
  },
  {
   "cell_type": "markdown",
   "metadata": {},
   "source": [
    "## Exercises"
   ]
  },
  {
   "cell_type": "markdown",
   "metadata": {},
   "source": [
    "### Q1. Assume that we have some data $x1, ..., xn \\in R$. Our goal is to find a constant $b$ such that $\\sum_i(x_i − b)^2$ is minimized."
   ]
  },
  {
   "cell_type": "markdown",
   "metadata": {},
   "source": [
    "#### 1. Find an analytic solution for the optimal value of $b$."
   ]
  },
  {
   "cell_type": "markdown",
   "metadata": {},
   "source": [
    "To minimize the value of $\\sum_i(x_i − b)^2$, differentiate the expression w.r.t. $b$ and equate to 0, since there is just one critical point on the loss surface and it corresponds to the minimum of the loss over the entire domain. We get $b = \\frac {\\sum_i{x_i}} n$"
   ]
  },
  {
   "cell_type": "markdown",
   "metadata": {},
   "source": [
    "#### 2. How does this problem and its solution relate to the normal distribution?"
   ]
  },
  {
   "cell_type": "markdown",
   "metadata": {},
   "source": [
    "### Q2. Derive the analytic solution to the optimization problem for linear regression with squared error. To keep things simple, you can omit the bias $b$ from the problem (we can do this in principled fashion by adding one column to $\\mathbf X$ consisting of all ones).\n"
   ]
  },
  {
   "cell_type": "markdown",
   "metadata": {},
   "source": [
    "#### 1. Write out the optimization problem in matrix and vector notation (treat all the data as a single matrix, and all the target values as a single vector)."
   ]
  },
  {
   "cell_type": "markdown",
   "metadata": {},
   "source": [
    "$\\mathbf w^* = argmin_{\\mathbf w} L(\\mathbf w)$\n",
    "\n",
    "where $L(\\mathbf w) = \\frac 1 n \\sum_{i=1}^{n} l^{(i)}(\\mathbf w)$\n",
    "\n",
    "where $l^{(i)}(\\mathbf w) = \\frac 1 2 (\\mathbf w^T\\mathbf x^{(i)} - y^{(i)})^2$"
   ]
  },
  {
   "cell_type": "markdown",
   "metadata": {},
   "source": [
    "#### 2. Compute the gradient of the loss with respect to $w$."
   ]
  },
  {
   "cell_type": "markdown",
   "metadata": {},
   "source": [
    "$\\partial_{\\mathbf w}L(\\mathbf w) = \\frac 1 n \\sum_{i=1}^{n} \\mathbf x^{(i)}(\\mathbf w^T\\mathbf x^{(i)} - y^{(i)})$"
   ]
  },
  {
   "cell_type": "markdown",
   "metadata": {},
   "source": [
    "#### 3. Find the analytic solution by setting the gradient equal to zero and solving the matrix equation."
   ]
  },
  {
   "cell_type": "markdown",
   "metadata": {},
   "source": [
    "#### 4. When might this be better than using stochastic gradient descent? When might this method break?"
   ]
  },
  {
   "cell_type": "markdown",
   "metadata": {},
   "source": [
    "### Q3. Assume that the noise model governing the additive noise $ϵ$ is the exponential distribution. That is, $p(ϵ) = \\frac1 2 \\exp(−|ϵ|)$."
   ]
  },
  {
   "cell_type": "markdown",
   "metadata": {},
   "source": [
    "#### 1. Write out the negative log-likelihood of the data under the model $−\\log P(y | X)$."
   ]
  },
  {
   "cell_type": "markdown",
   "metadata": {},
   "source": [
    "#### 2. Can you find a closed form solution?"
   ]
  },
  {
   "cell_type": "markdown",
   "metadata": {},
   "source": [
    "#### 3. Suggest a stochastic gradient descent algorithm to solve this problem. What could possibly go wrong (hint: what happens near the stationary point as we keep on updating the parameters)? Can you fix this?\n"
   ]
  }
 ],
 "metadata": {
  "kernelspec": {
   "display_name": "Python 3",
   "language": "python",
   "name": "python3"
  },
  "language_info": {
   "codemirror_mode": {
    "name": "ipython",
    "version": 3
   },
   "file_extension": ".py",
   "mimetype": "text/x-python",
   "name": "python",
   "nbconvert_exporter": "python",
   "pygments_lexer": "ipython3",
   "version": "3.8.5"
  }
 },
 "nbformat": 4,
 "nbformat_minor": 4
}
