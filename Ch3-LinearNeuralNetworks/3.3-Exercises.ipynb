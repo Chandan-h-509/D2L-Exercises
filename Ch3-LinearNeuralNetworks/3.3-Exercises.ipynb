{
 "cells": [
  {
   "cell_type": "markdown",
   "metadata": {},
   "source": [
    "# 3.3 Concise Implementation of Linear Regression "
   ]
  },
  {
   "cell_type": "markdown",
   "metadata": {},
   "source": [
    "## Exercises"
   ]
  },
  {
   "cell_type": "markdown",
   "metadata": {},
   "source": [
    "### Q1. If we replace `nn.MSELoss(reduction='sum')` with `nn.MSELoss()`, how can we change the learning rate for the code to behave identically. Why?"
   ]
  },
  {
   "cell_type": "markdown",
   "metadata": {},
   "source": [
    "From the PyTorch documentation, we find that the default value of `reduction` is `mean`, which means that the mean value of loss over all examples is returned. When we set `reduction='sum'`, the sum of loss over all examples in the batch is returned. This means that the factor of 1/`batch_size` is missing from the loss and hence from the gradients. Hence, the learning must be multiplied by 1/`batch_size`. \n",
    "\n",
    "Note: This was what I was expecting, but the results do not seem to match. Will edit once I get the right solution"
   ]
  },
  {
   "cell_type": "markdown",
   "metadata": {},
   "source": [
    "### Q2. Review the PyTorch documentation to see what loss functions and initialization methods are provided. Replace the loss by Huberʼs loss."
   ]
  },
  {
   "cell_type": "markdown",
   "metadata": {},
   "source": [
    "[Loss Functions in the PyTorch documentation](https://pytorch.org/docs/stable/nn.html#loss-functions)\n",
    "\n",
    "[Initialization Methods in the PyTorch documentation](https://pytorch.org/docs/stable/optim.html)"
   ]
  },
  {
   "cell_type": "markdown",
   "metadata": {},
   "source": [
    "### Q3. How do you access the gradient of `net[0].weight`?"
   ]
  },
  {
   "cell_type": "markdown",
   "metadata": {},
   "source": [
    "Gradient of `net[0].weight` can be accessed using `net[0].weight.grad`"
   ]
  }
 ],
 "metadata": {
  "kernelspec": {
   "display_name": "Python 3",
   "language": "python",
   "name": "python3"
  },
  "language_info": {
   "codemirror_mode": {
    "name": "ipython",
    "version": 3
   },
   "file_extension": ".py",
   "mimetype": "text/x-python",
   "name": "python",
   "nbconvert_exporter": "python",
   "pygments_lexer": "ipython3",
   "version": "3.8.5"
  }
 },
 "nbformat": 4,
 "nbformat_minor": 4
}
