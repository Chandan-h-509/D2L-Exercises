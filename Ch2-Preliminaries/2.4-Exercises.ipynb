{
 "cells": [
  {
   "cell_type": "markdown",
   "metadata": {},
   "source": [
    "# 2.4 Calculus"
   ]
  },
  {
   "cell_type": "markdown",
   "metadata": {},
   "source": [
    "## Exercises"
   ]
  },
  {
   "cell_type": "markdown",
   "metadata": {},
   "source": [
    "### Q1. Plot the function $y = f(x) = x^3 − \\frac 1 x$ and its tangent line when $x = 1$."
   ]
  },
  {
   "cell_type": "code",
   "execution_count": 1,
   "metadata": {},
   "outputs": [],
   "source": [
    "import numpy as np\n",
    "import matplotlib.pyplot as plt"
   ]
  },
  {
   "cell_type": "code",
   "execution_count": 2,
   "metadata": {},
   "outputs": [],
   "source": [
    "x = np.arange(0.1, 4, 0.1)\n",
    "\n",
    "def y(x):\n",
    "    return x**3 - 1/x\n",
    "\n",
    "def derivative(y, x):\n",
    "    h = 0.000000001\n",
    "    return (y(x + h) - y(x)) / h"
   ]
  },
  {
   "cell_type": "code",
   "execution_count": 3,
   "metadata": {},
   "outputs": [
    {
     "data": {
      "image/png": "[encoded data removed]",
      "text/plain": [
       "<Figure size 432x288 with 1 Axes>"
      ]
     },
     "metadata": {
      "needs_background": "light"
     },
     "output_type": "display_data"
    }
   ],
   "source": [
    "plt.plot(x, y(x), label=\"y(x)\")\n",
    "plt.plot(1, y(1), 'o')\n",
    "tangent_y = derivative(y, 1)*(x - 1) + y(1)\n",
    "plt.plot(x, tangent_y, label=\"tangent at x=1\")\n",
    "plt.legend();"
   ]
  },
  {
   "cell_type": "markdown",
   "metadata": {},
   "source": [
    "### Q2. Find the gradient of the function $f($x$) = 3x^2_1 + 5e^{x_2}$."
   ]
  },
  {
   "cell_type": "markdown",
   "metadata": {},
   "source": [
    "Partial derivative of $f(x)$ with respect to $x_1 = 6x_1$\n",
    "\n",
    "Partial derivative of $f(x)$ with respect to $x_2 = 5e^{x_2}$\n",
    "\n",
    "Hence the gradient of $f(x)$ is $[6x_1, 5e^{x_2}]^T$"
   ]
  },
  {
   "cell_type": "markdown",
   "metadata": {},
   "source": [
    "### Q3. What is the gradient of the function $f($x$) = ∥$x$∥^2$?"
   ]
  },
  {
   "cell_type": "markdown",
   "metadata": {},
   "source": [
    "$\\bigtriangledown_x∥x∥^2 = \\bigtriangledown_xx^Tx = 2x$"
   ]
  },
  {
   "cell_type": "markdown",
   "metadata": {},
   "source": [
    "### Q4. Can you write out the chain rule for the case where $u = f(x, y, z)$ and $x = x(a, b)$, $y = y(a, b)$, and $z = z(a, b)$?"
   ]
  },
  {
   "cell_type": "markdown",
   "metadata": {},
   "source": [
    "$\\frac{du}{da} = \\frac{du}{dx}\\frac{dx}{da} + \\frac{du}{dy}\\frac{dy}{da} + \\frac{du}{dz}\\frac{dz}{da}$\n",
    "\n",
    "$\\frac{du}{db} = \\frac{du}{dx}\\frac{dx}{db} + \\frac{du}{dy}\\frac{dy}{db} + \\frac{du}{dz}\\frac{dz}{db}$"
   ]
  }
 ],
 "metadata": {
  "kernelspec": {
   "display_name": "Python 3",
   "language": "python",
   "name": "python3"
  },
  "language_info": {
   "codemirror_mode": {
    "name": "ipython",
    "version": 3
   },
   "file_extension": ".py",
   "mimetype": "text/x-python",
   "name": "python",
   "nbconvert_exporter": "python",
   "pygments_lexer": "ipython3",
   "version": "3.8.5"
  }
 },
 "nbformat": 4,
 "nbformat_minor": 4
}
