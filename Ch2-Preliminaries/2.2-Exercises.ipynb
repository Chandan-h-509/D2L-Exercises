{
 "cells": [
  {
   "cell_type": "markdown",
   "metadata": {},
   "source": [
    "# 2.2 Data Preprocessing"
   ]
  },
  {
   "cell_type": "markdown",
   "metadata": {},
   "source": [
    "## Exercises"
   ]
  },
  {
   "cell_type": "markdown",
   "metadata": {},
   "source": [
    "### Create a raw dataset with more rows and columns."
   ]
  },
  {
   "cell_type": "code",
   "execution_count": 1,
   "metadata": {},
   "outputs": [],
   "source": [
    "import os\n",
    "\n",
    "os.makedirs(os.path.join('.', 'data-for-2.2'), exist_ok=True)\n",
    "data_file = os.path.join('.', 'data-for-2.2', 'raw_set.csv')\n",
    "with open(data_file, 'w') as f:\n",
    "    f.write('NumRooms,Alley,Price,SeaFace\\n')\n",
    "    f.write('2,Pave,127500,Yes\\n')\n",
    "    f.write('2,NA,106000,No\\n')\n",
    "    f.write('4,NA,178100,Yes\\n')\n",
    "    f.write('3,Pave,140000,NA\\n')\n",
    "    f.write('5,NA,190000,No\\n')\n",
    "    f.write('2,NA,110000,No\\n')\n",
    "    f.write('3,NA,140000,NA\\n')\n",
    "    \n",
    "import pandas as pd\n",
    "data = pd.read_csv(data_file)"
   ]
  },
  {
   "cell_type": "markdown",
   "metadata": {},
   "source": [
    "### Q1. Delete the column with the most missing values."
   ]
  },
  {
   "cell_type": "code",
   "execution_count": 2,
   "metadata": {},
   "outputs": [
    {
     "name": "stdout",
     "output_type": "stream",
     "text": [
      "   NumRooms   Price SeaFace\n",
      "0         2  127500     Yes\n",
      "1         2  106000      No\n",
      "2         4  178100     Yes\n",
      "3         3  140000     NaN\n",
      "4         5  190000      No\n",
      "5         2  110000      No\n",
      "6         3  140000     NaN\n"
     ]
    }
   ],
   "source": [
    "data = data[data.columns[data.isnull().mean() < max(data.isnull().mean())]]\n",
    "print(data)\n",
    "## data.isnull() generates a Boolean mask indicating missing values\n",
    "## data.isnull().mean() < max(data.isnull().mean()) further generates a Boolean mask of columns\n",
    "## indicating the column with most missing values"
   ]
  },
  {
   "cell_type": "markdown",
   "metadata": {},
   "source": [
    "### Q2. Convert the preprocessed dataset to the tensor format."
   ]
  },
  {
   "cell_type": "code",
   "execution_count": 3,
   "metadata": {},
   "outputs": [
    {
     "data": {
      "text/html": [
       "<div>\n",
       "<style scoped>\n",
       "    .dataframe tbody tr th:only-of-type {\n",
       "        vertical-align: middle;\n",
       "    }\n",
       "\n",
       "    .dataframe tbody tr th {\n",
       "        vertical-align: top;\n",
       "    }\n",
       "\n",
       "    .dataframe thead th {\n",
       "        text-align: right;\n",
       "    }\n",
       "</style>\n",
       "<table border=\"1\" class=\"dataframe\">\n",
       "  <thead>\n",
       "    <tr style=\"text-align: right;\">\n",
       "      <th></th>\n",
       "      <th>NumRooms</th>\n",
       "      <th>Price</th>\n",
       "      <th>SeaFace_No</th>\n",
       "      <th>SeaFace_Yes</th>\n",
       "      <th>SeaFace_nan</th>\n",
       "    </tr>\n",
       "  </thead>\n",
       "  <tbody>\n",
       "    <tr>\n",
       "      <th>0</th>\n",
       "      <td>2</td>\n",
       "      <td>127500</td>\n",
       "      <td>0</td>\n",
       "      <td>1</td>\n",
       "      <td>0</td>\n",
       "    </tr>\n",
       "    <tr>\n",
       "      <th>1</th>\n",
       "      <td>2</td>\n",
       "      <td>106000</td>\n",
       "      <td>1</td>\n",
       "      <td>0</td>\n",
       "      <td>0</td>\n",
       "    </tr>\n",
       "    <tr>\n",
       "      <th>2</th>\n",
       "      <td>4</td>\n",
       "      <td>178100</td>\n",
       "      <td>0</td>\n",
       "      <td>1</td>\n",
       "      <td>0</td>\n",
       "    </tr>\n",
       "    <tr>\n",
       "      <th>3</th>\n",
       "      <td>3</td>\n",
       "      <td>140000</td>\n",
       "      <td>0</td>\n",
       "      <td>0</td>\n",
       "      <td>1</td>\n",
       "    </tr>\n",
       "    <tr>\n",
       "      <th>4</th>\n",
       "      <td>5</td>\n",
       "      <td>190000</td>\n",
       "      <td>1</td>\n",
       "      <td>0</td>\n",
       "      <td>0</td>\n",
       "    </tr>\n",
       "    <tr>\n",
       "      <th>5</th>\n",
       "      <td>2</td>\n",
       "      <td>110000</td>\n",
       "      <td>1</td>\n",
       "      <td>0</td>\n",
       "      <td>0</td>\n",
       "    </tr>\n",
       "    <tr>\n",
       "      <th>6</th>\n",
       "      <td>3</td>\n",
       "      <td>140000</td>\n",
       "      <td>0</td>\n",
       "      <td>0</td>\n",
       "      <td>1</td>\n",
       "    </tr>\n",
       "  </tbody>\n",
       "</table>\n",
       "</div>"
      ],
      "text/plain": [
       "   NumRooms   Price  SeaFace_No  SeaFace_Yes  SeaFace_nan\n",
       "0         2  127500           0            1            0\n",
       "1         2  106000           1            0            0\n",
       "2         4  178100           0            1            0\n",
       "3         3  140000           0            0            1\n",
       "4         5  190000           1            0            0\n",
       "5         2  110000           1            0            0\n",
       "6         3  140000           0            0            1"
      ]
     },
     "execution_count": 3,
     "metadata": {},
     "output_type": "execute_result"
    }
   ],
   "source": [
    "data = pd.get_dummies(data, dummy_na=True)\n",
    "\n",
    "outputs = data['Price']\n",
    "inputs = data.loc[:, data.columns!='Price']\n",
    "\n",
    "data"
   ]
  },
  {
   "cell_type": "code",
   "execution_count": 4,
   "metadata": {},
   "outputs": [
    {
     "data": {
      "text/plain": [
       "(tensor([[2, 0, 1, 0],\n",
       "         [2, 1, 0, 0],\n",
       "         [4, 0, 1, 0],\n",
       "         [3, 0, 0, 1],\n",
       "         [5, 1, 0, 0],\n",
       "         [2, 1, 0, 0],\n",
       "         [3, 0, 0, 1]]),\n",
       " tensor([127500, 106000, 178100, 140000, 190000, 110000, 140000]))"
      ]
     },
     "execution_count": 4,
     "metadata": {},
     "output_type": "execute_result"
    }
   ],
   "source": [
    "import torch\n",
    "\n",
    "X, y = torch.tensor(inputs.values), torch.tensor(outputs.values)\n",
    "X, y"
   ]
  }
 ],
 "metadata": {
  "kernelspec": {
   "display_name": "Python 3",
   "language": "python",
   "name": "python3"
  },
  "language_info": {
   "codemirror_mode": {
    "name": "ipython",
    "version": 3
   },
   "file_extension": ".py",
   "mimetype": "text/x-python",
   "name": "python",
   "nbconvert_exporter": "python",
   "pygments_lexer": "ipython3",
   "version": "3.8.5"
  }
 },
 "nbformat": 4,
 "nbformat_minor": 4
}
